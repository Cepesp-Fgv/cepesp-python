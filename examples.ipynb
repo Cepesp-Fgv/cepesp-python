{
 "cells": [
  {
   "cell_type": "markdown",
   "metadata": {
    "collapsed": true
   },
   "source": [
    "## Api cepesp data em python\n",
    "### Utilização básica\n",
    "Votação para presidente "
   ]
  },
  {
   "cell_type": "code",
   "execution_count": 1,
   "metadata": {
    "pycharm": {
     "is_executing": false
    }
   },
   "outputs": [
    {
     "data": {
      "text/html": [
       "<div>\n",
       "<style scoped>\n",
       "    .dataframe tbody tr th:only-of-type {\n",
       "        vertical-align: middle;\n",
       "    }\n",
       "\n",
       "    .dataframe tbody tr th {\n",
       "        vertical-align: top;\n",
       "    }\n",
       "\n",
       "    .dataframe thead th {\n",
       "        text-align: right;\n",
       "    }\n",
       "</style>\n",
       "<table border=\"1\" class=\"dataframe\">\n",
       "  <thead>\n",
       "    <tr style=\"text-align: right;\">\n",
       "      <th></th>\n",
       "      <th>NUMERO_CANDIDATO</th>\n",
       "      <th>NUM_TURNO</th>\n",
       "      <th>QTDE_VOTOS</th>\n",
       "    </tr>\n",
       "  </thead>\n",
       "  <tbody>\n",
       "    <tr>\n",
       "      <th>0</th>\n",
       "      <td>13</td>\n",
       "      <td>1</td>\n",
       "      <td>43267668</td>\n",
       "    </tr>\n",
       "    <tr>\n",
       "      <th>1</th>\n",
       "      <td>16</td>\n",
       "      <td>1</td>\n",
       "      <td>91209</td>\n",
       "    </tr>\n",
       "    <tr>\n",
       "      <th>2</th>\n",
       "      <td>20</td>\n",
       "      <td>1</td>\n",
       "      <td>780513</td>\n",
       "    </tr>\n",
       "    <tr>\n",
       "      <th>3</th>\n",
       "      <td>21</td>\n",
       "      <td>1</td>\n",
       "      <td>47845</td>\n",
       "    </tr>\n",
       "    <tr>\n",
       "      <th>4</th>\n",
       "      <td>27</td>\n",
       "      <td>1</td>\n",
       "      <td>61250</td>\n",
       "    </tr>\n",
       "  </tbody>\n",
       "</table>\n",
       "</div>"
      ],
      "text/plain": [
       "  NUMERO_CANDIDATO NUM_TURNO QTDE_VOTOS\n",
       "0               13         1   43267668\n",
       "1               16         1      91209\n",
       "2               20         1     780513\n",
       "3               21         1      47845\n",
       "4               27         1      61250"
      ]
     },
     "execution_count": 1,
     "metadata": {},
     "output_type": "execute_result"
    }
   ],
   "source": [
    "from electionsBR import *\n",
    "\n",
    "vot = get_votes(year=2014, position=PRESIDENTE, regional_aggregation=BRASIL, \n",
    "                columns=[\"NUMERO_CANDIDATO\", \"NUM_TURNO\", \"QTDE_VOTOS\"])\n",
    "vot.head()"
   ]
  },
  {
   "cell_type": "markdown",
   "metadata": {},
   "source": [
    "#### Adicionando filtros"
   ]
  },
  {
   "cell_type": "code",
   "execution_count": 2,
   "metadata": {
    "pycharm": {
     "is_executing": false
    }
   },
   "outputs": [
    {
     "data": {
      "text/html": [
       "<div>\n",
       "<style scoped>\n",
       "    .dataframe tbody tr th:only-of-type {\n",
       "        vertical-align: middle;\n",
       "    }\n",
       "\n",
       "    .dataframe tbody tr th {\n",
       "        vertical-align: top;\n",
       "    }\n",
       "\n",
       "    .dataframe thead th {\n",
       "        text-align: right;\n",
       "    }\n",
       "</style>\n",
       "<table border=\"1\" class=\"dataframe\">\n",
       "  <thead>\n",
       "    <tr style=\"text-align: right;\">\n",
       "      <th></th>\n",
       "      <th>NUMERO_CANDIDATO</th>\n",
       "      <th>UF</th>\n",
       "      <th>NUM_TURNO</th>\n",
       "      <th>QTDE_VOTOS</th>\n",
       "    </tr>\n",
       "  </thead>\n",
       "  <tbody>\n",
       "    <tr>\n",
       "      <th>0</th>\n",
       "      <td>13</td>\n",
       "      <td>CE</td>\n",
       "      <td>2</td>\n",
       "      <td>3522884</td>\n",
       "    </tr>\n",
       "  </tbody>\n",
       "</table>\n",
       "</div>"
      ],
      "text/plain": [
       "  NUMERO_CANDIDATO  UF NUM_TURNO QTDE_VOTOS\n",
       "0               13  CE         2    3522884"
      ]
     },
     "execution_count": 2,
     "metadata": {},
     "output_type": "execute_result"
    }
   ],
   "source": [
    "vot = get_votes(year=2014, position=PRESIDENTE, regional_aggregation=UF,\n",
    "                uf=\"CE\", candidate_number=13,\n",
    "                filters={\"NUM_TURNO\": 2},\n",
    "                columns=[\"NUMERO_CANDIDATO\", \"UF\", \"NUM_TURNO\", \"QTDE_VOTOS\"])\n",
    "vot.head()"
   ]
  },
  {
   "cell_type": "markdown",
   "metadata": {},
   "source": [
    "#### Informações sobre o candidato\n"
   ]
  },
  {
   "cell_type": "code",
   "execution_count": 3,
   "metadata": {
    "pycharm": {
     "is_executing": false
    }
   },
   "outputs": [
    {
     "data": {
      "text/html": [
       "<div>\n",
       "<style scoped>\n",
       "    .dataframe tbody tr th:only-of-type {\n",
       "        vertical-align: middle;\n",
       "    }\n",
       "\n",
       "    .dataframe tbody tr th {\n",
       "        vertical-align: top;\n",
       "    }\n",
       "\n",
       "    .dataframe thead th {\n",
       "        text-align: right;\n",
       "    }\n",
       "</style>\n",
       "<table border=\"1\" class=\"dataframe\">\n",
       "  <thead>\n",
       "    <tr style=\"text-align: right;\">\n",
       "      <th></th>\n",
       "      <th>NUMERO_CANDIDATO</th>\n",
       "      <th>NOME_CANDIDATO</th>\n",
       "      <th>SIGLA_UF</th>\n",
       "      <th>NUM_TURNO</th>\n",
       "    </tr>\n",
       "  </thead>\n",
       "  <tbody>\n",
       "    <tr>\n",
       "      <th>0</th>\n",
       "      <td>1012</td>\n",
       "      <td>ALAN RICK MIRANDA</td>\n",
       "      <td>AC</td>\n",
       "      <td>1</td>\n",
       "    </tr>\n",
       "    <tr>\n",
       "      <th>1</th>\n",
       "      <td>1101</td>\n",
       "      <td>CLAUDENOR MAGALHÃES SANTANA DE SOUZA</td>\n",
       "      <td>AC</td>\n",
       "      <td>1</td>\n",
       "    </tr>\n",
       "    <tr>\n",
       "      <th>2</th>\n",
       "      <td>1111</td>\n",
       "      <td>LEILANE RIBEIRO DE OLIVEIRA</td>\n",
       "      <td>AC</td>\n",
       "      <td>1</td>\n",
       "    </tr>\n",
       "    <tr>\n",
       "      <th>3</th>\n",
       "      <td>1112</td>\n",
       "      <td>JOSÉ EDMAR RONIVON SANTIAGO DE MELO</td>\n",
       "      <td>AC</td>\n",
       "      <td>1</td>\n",
       "    </tr>\n",
       "    <tr>\n",
       "      <th>4</th>\n",
       "      <td>1122</td>\n",
       "      <td>OSVALDO ALVES RIBEIRO NETO</td>\n",
       "      <td>AC</td>\n",
       "      <td>1</td>\n",
       "    </tr>\n",
       "  </tbody>\n",
       "</table>\n",
       "</div>"
      ],
      "text/plain": [
       "  NUMERO_CANDIDATO                        NOME_CANDIDATO SIGLA_UF NUM_TURNO\n",
       "0             1012                     ALAN RICK MIRANDA       AC         1\n",
       "1             1101  CLAUDENOR MAGALHÃES SANTANA DE SOUZA       AC         1\n",
       "2             1111           LEILANE RIBEIRO DE OLIVEIRA       AC         1\n",
       "3             1112   JOSÉ EDMAR RONIVON SANTIAGO DE MELO       AC         1\n",
       "4             1122            OSVALDO ALVES RIBEIRO NETO       AC         1"
      ]
     },
     "execution_count": 3,
     "metadata": {},
     "output_type": "execute_result"
    }
   ],
   "source": [
    "cand = get_candidates(year=2014, position=DEP_FEDERAL,\n",
    "                      columns=[\"NUMERO_CANDIDATO\", \"NOME_CANDIDATO\", \"SIGLA_UF\", \"NUM_TURNO\"])\n",
    "cand.head()"
   ]
  },
  {
   "cell_type": "markdown",
   "metadata": {},
   "source": [
    "### Informações sobre Legendas\n"
   ]
  },
  {
   "cell_type": "code",
   "execution_count": 4,
   "metadata": {
    "pycharm": {
     "is_executing": false
    }
   },
   "outputs": [
    {
     "data": {
      "text/html": [
       "<div>\n",
       "<style scoped>\n",
       "    .dataframe tbody tr th:only-of-type {\n",
       "        vertical-align: middle;\n",
       "    }\n",
       "\n",
       "    .dataframe tbody tr th {\n",
       "        vertical-align: top;\n",
       "    }\n",
       "\n",
       "    .dataframe thead th {\n",
       "        text-align: right;\n",
       "    }\n",
       "</style>\n",
       "<table border=\"1\" class=\"dataframe\">\n",
       "  <thead>\n",
       "    <tr style=\"text-align: right;\">\n",
       "      <th></th>\n",
       "      <th>TIPO_LEGENDA</th>\n",
       "      <th>NUMERO_PARTIDO</th>\n",
       "      <th>SIGLA_PARTIDO</th>\n",
       "      <th>NOME_COLIGACAO</th>\n",
       "    </tr>\n",
       "  </thead>\n",
       "  <tbody>\n",
       "    <tr>\n",
       "      <th>0</th>\n",
       "      <td>COLIGACAO</td>\n",
       "      <td>10</td>\n",
       "      <td>PRB</td>\n",
       "      <td>COLIGAÇÃO SANTA CATARINA EM PRIMEIRO LUGAR</td>\n",
       "    </tr>\n",
       "    <tr>\n",
       "      <th>1</th>\n",
       "      <td>COLIGACAO</td>\n",
       "      <td>10</td>\n",
       "      <td>PRB</td>\n",
       "      <td>PERNAMBUCO VAI MAIS LONGE</td>\n",
       "    </tr>\n",
       "    <tr>\n",
       "      <th>2</th>\n",
       "      <td>COLIGACAO</td>\n",
       "      <td>10</td>\n",
       "      <td>PRB</td>\n",
       "      <td>GARANTIA DE UM FUTURO MELHOR PARA GOIÁS</td>\n",
       "    </tr>\n",
       "    <tr>\n",
       "      <th>3</th>\n",
       "      <td>COLIGACAO</td>\n",
       "      <td>10</td>\n",
       "      <td>PRB</td>\n",
       "      <td>UNIDOS PELA BAHIA</td>\n",
       "    </tr>\n",
       "    <tr>\n",
       "      <th>4</th>\n",
       "      <td>COLIGACAO</td>\n",
       "      <td>10</td>\n",
       "      <td>PRB</td>\n",
       "      <td>MS CADA VEZ MELHOR</td>\n",
       "    </tr>\n",
       "  </tbody>\n",
       "</table>\n",
       "</div>"
      ],
      "text/plain": [
       "  TIPO_LEGENDA NUMERO_PARTIDO SIGLA_PARTIDO  \\\n",
       "0    COLIGACAO             10           PRB   \n",
       "1    COLIGACAO             10           PRB   \n",
       "2    COLIGACAO             10           PRB   \n",
       "3    COLIGACAO             10           PRB   \n",
       "4    COLIGACAO             10           PRB   \n",
       "\n",
       "                               NOME_COLIGACAO  \n",
       "0  COLIGAÇÃO SANTA CATARINA EM PRIMEIRO LUGAR  \n",
       "1                   PERNAMBUCO VAI MAIS LONGE  \n",
       "2     GARANTIA DE UM FUTURO MELHOR PARA GOIÁS  \n",
       "3                           UNIDOS PELA BAHIA  \n",
       "4                          MS CADA VEZ MELHOR  "
      ]
     },
     "execution_count": 4,
     "metadata": {},
     "output_type": "execute_result"
    }
   ],
   "source": [
    "leg = get_coalitions(year=2014, position=GOVERNADOR,\n",
    "                     columns=[\"TIPO_LEGENDA\", \"NUMERO_PARTIDO\", \"SIGLA_PARTIDO\", \"NOME_COLIGACAO\"])\n",
    "leg.head()"
   ]
  },
  {
   "cell_type": "markdown",
   "metadata": {},
   "source": [
    "### Junção entre votação e candidatos"
   ]
  },
  {
   "cell_type": "code",
   "execution_count": 5,
   "metadata": {
    "pycharm": {
     "is_executing": false
    }
   },
   "outputs": [
    {
     "data": {
      "text/html": [
       "<div>\n",
       "<style scoped>\n",
       "    .dataframe tbody tr th:only-of-type {\n",
       "        vertical-align: middle;\n",
       "    }\n",
       "\n",
       "    .dataframe tbody tr th {\n",
       "        vertical-align: top;\n",
       "    }\n",
       "\n",
       "    .dataframe thead th {\n",
       "        text-align: right;\n",
       "    }\n",
       "</style>\n",
       "<table border=\"1\" class=\"dataframe\">\n",
       "  <thead>\n",
       "    <tr style=\"text-align: right;\">\n",
       "      <th></th>\n",
       "      <th>NOME_CANDIDATO</th>\n",
       "      <th>NUM_TURNO</th>\n",
       "      <th>QTDE_VOTOS</th>\n",
       "    </tr>\n",
       "  </thead>\n",
       "  <tbody>\n",
       "    <tr>\n",
       "      <th>0</th>\n",
       "      <td>MAURO LUÍS IASI</td>\n",
       "      <td>1</td>\n",
       "      <td>47845</td>\n",
       "    </tr>\n",
       "    <tr>\n",
       "      <th>1</th>\n",
       "      <td>RUI COSTA PIMENTA</td>\n",
       "      <td>1</td>\n",
       "      <td>12324</td>\n",
       "    </tr>\n",
       "    <tr>\n",
       "      <th>2</th>\n",
       "      <td>JOSÉ LEVY FIDELIX DA CRUZ</td>\n",
       "      <td>1</td>\n",
       "      <td>446878</td>\n",
       "    </tr>\n",
       "    <tr>\n",
       "      <th>3</th>\n",
       "      <td>MARIA OSMARINA MARINA DA SILVA VAZ DE LIMA</td>\n",
       "      <td>1</td>\n",
       "      <td>22176619</td>\n",
       "    </tr>\n",
       "    <tr>\n",
       "      <th>4</th>\n",
       "      <td>EVERALDO DIAS PEREIRA</td>\n",
       "      <td>1</td>\n",
       "      <td>780513</td>\n",
       "    </tr>\n",
       "  </tbody>\n",
       "</table>\n",
       "</div>"
      ],
      "text/plain": [
       "                               NOME_CANDIDATO NUM_TURNO QTDE_VOTOS\n",
       "0                             MAURO LUÍS IASI         1      47845\n",
       "1                           RUI COSTA PIMENTA         1      12324\n",
       "2                   JOSÉ LEVY FIDELIX DA CRUZ         1     446878\n",
       "3  MARIA OSMARINA MARINA DA SILVA VAZ DE LIMA         1   22176619\n",
       "4                       EVERALDO DIAS PEREIRA         1     780513"
      ]
     },
     "execution_count": 5,
     "metadata": {},
     "output_type": "execute_result"
    }
   ],
   "source": [
    "vot = get_elections(year=2014, position=PRESIDENTE, regional_aggregation=BRASIL, columns='*')\n",
    "vot[[\"NOME_CANDIDATO\", \"NUM_TURNO\", \"QTDE_VOTOS\"]].head()\n"
   ]
  },
  {
   "cell_type": "markdown",
   "metadata": {},
   "source": [
    "### Votos x Partidos"
   ]
  },
  {
   "cell_type": "code",
   "execution_count": 6,
   "metadata": {
    "pycharm": {
     "is_executing": false
    }
   },
   "outputs": [
    {
     "data": {
      "text/html": [
       "<div>\n",
       "<style scoped>\n",
       "    .dataframe tbody tr th:only-of-type {\n",
       "        vertical-align: middle;\n",
       "    }\n",
       "\n",
       "    .dataframe tbody tr th {\n",
       "        vertical-align: top;\n",
       "    }\n",
       "\n",
       "    .dataframe thead th {\n",
       "        text-align: right;\n",
       "    }\n",
       "</style>\n",
       "<table border=\"1\" class=\"dataframe\">\n",
       "  <thead>\n",
       "    <tr style=\"text-align: right;\">\n",
       "      <th></th>\n",
       "      <th>ANO_ELEICAO</th>\n",
       "      <th>NUM_TURNO</th>\n",
       "      <th>DESCRICAO_ELEICAO</th>\n",
       "      <th>CODIGO_CARGO</th>\n",
       "      <th>DESCRICAO_CARGO</th>\n",
       "      <th>SIGLA_COLIGACAO</th>\n",
       "      <th>NOME_COLIGACAO</th>\n",
       "      <th>COMPOSICAO_COLIGACAO</th>\n",
       "      <th>QTDE_VOTOS</th>\n",
       "    </tr>\n",
       "  </thead>\n",
       "  <tbody>\n",
       "    <tr>\n",
       "      <th>0</th>\n",
       "      <td>2014</td>\n",
       "      <td>1</td>\n",
       "      <td>Eleicoes Gerais 2014</td>\n",
       "      <td>1</td>\n",
       "      <td>PRESIDENTE</td>\n",
       "      <td>PCB</td>\n",
       "      <td>PCB</td>\n",
       "      <td>PCB</td>\n",
       "      <td>47845</td>\n",
       "    </tr>\n",
       "    <tr>\n",
       "      <th>1</th>\n",
       "      <td>2014</td>\n",
       "      <td>1</td>\n",
       "      <td>Eleicoes Gerais 2014</td>\n",
       "      <td>1</td>\n",
       "      <td>PRESIDENTE</td>\n",
       "      <td>PCO</td>\n",
       "      <td>PCO</td>\n",
       "      <td>PCO</td>\n",
       "      <td>12324</td>\n",
       "    </tr>\n",
       "    <tr>\n",
       "      <th>2</th>\n",
       "      <td>2014</td>\n",
       "      <td>1</td>\n",
       "      <td>Eleicoes Gerais 2014</td>\n",
       "      <td>1</td>\n",
       "      <td>PRESIDENTE</td>\n",
       "      <td>#NE#</td>\n",
       "      <td>UNIDOS PELO BRASIL</td>\n",
       "      <td>PHS / PRP / PPS / PPL / PSB / PSL</td>\n",
       "      <td>22176619</td>\n",
       "    </tr>\n",
       "    <tr>\n",
       "      <th>3</th>\n",
       "      <td>2014</td>\n",
       "      <td>1</td>\n",
       "      <td>Eleicoes Gerais 2014</td>\n",
       "      <td>1</td>\n",
       "      <td>PRESIDENTE</td>\n",
       "      <td>PRTB</td>\n",
       "      <td>PRTB</td>\n",
       "      <td>PRTB</td>\n",
       "      <td>446878</td>\n",
       "    </tr>\n",
       "    <tr>\n",
       "      <th>4</th>\n",
       "      <td>2014</td>\n",
       "      <td>1</td>\n",
       "      <td>Eleicoes Gerais 2014</td>\n",
       "      <td>1</td>\n",
       "      <td>PRESIDENTE</td>\n",
       "      <td>PSC</td>\n",
       "      <td>PSC</td>\n",
       "      <td>PSC</td>\n",
       "      <td>780513</td>\n",
       "    </tr>\n",
       "  </tbody>\n",
       "</table>\n",
       "</div>"
      ],
      "text/plain": [
       "  ANO_ELEICAO NUM_TURNO     DESCRICAO_ELEICAO CODIGO_CARGO DESCRICAO_CARGO  \\\n",
       "0        2014         1  Eleicoes Gerais 2014            1      PRESIDENTE   \n",
       "1        2014         1  Eleicoes Gerais 2014            1      PRESIDENTE   \n",
       "2        2014         1  Eleicoes Gerais 2014            1      PRESIDENTE   \n",
       "3        2014         1  Eleicoes Gerais 2014            1      PRESIDENTE   \n",
       "4        2014         1  Eleicoes Gerais 2014            1      PRESIDENTE   \n",
       "\n",
       "  SIGLA_COLIGACAO      NOME_COLIGACAO               COMPOSICAO_COLIGACAO  \\\n",
       "0             PCB                 PCB                                PCB   \n",
       "1             PCO                 PCO                                PCO   \n",
       "2            #NE#  UNIDOS PELO BRASIL  PHS / PRP / PPS / PPL / PSB / PSL   \n",
       "3            PRTB                PRTB                               PRTB   \n",
       "4             PSC                 PSC                                PSC   \n",
       "\n",
       "  QTDE_VOTOS  \n",
       "0      47845  \n",
       "1      12324  \n",
       "2   22176619  \n",
       "3     446878  \n",
       "4     780513  "
      ]
     },
     "execution_count": 6,
     "metadata": {},
     "output_type": "execute_result"
    }
   ],
   "source": [
    "vot = get_elections(year=2014, position=PRESIDENTE, regional_aggregation=BRASIL, political_aggregation=COLIGACAO)\n",
    "vot.head()"
   ]
  },
  {
   "cell_type": "markdown",
   "metadata": {},
   "source": [
    "### Votos Brancos"
   ]
  },
  {
   "cell_type": "code",
   "execution_count": 7,
   "metadata": {
    "pycharm": {
     "is_executing": false
    }
   },
   "outputs": [
    {
     "data": {
      "text/html": [
       "<div>\n",
       "<style scoped>\n",
       "    .dataframe tbody tr th:only-of-type {\n",
       "        vertical-align: middle;\n",
       "    }\n",
       "\n",
       "    .dataframe tbody tr th {\n",
       "        vertical-align: top;\n",
       "    }\n",
       "\n",
       "    .dataframe thead th {\n",
       "        text-align: right;\n",
       "    }\n",
       "</style>\n",
       "<table border=\"1\" class=\"dataframe\">\n",
       "  <thead>\n",
       "    <tr style=\"text-align: right;\">\n",
       "      <th></th>\n",
       "      <th>NUMERO_CANDIDATO</th>\n",
       "      <th>QTDE_VOTOS</th>\n",
       "    </tr>\n",
       "  </thead>\n",
       "  <tbody>\n",
       "    <tr>\n",
       "      <th>0</th>\n",
       "      <td>95</td>\n",
       "      <td>4420489</td>\n",
       "    </tr>\n",
       "    <tr>\n",
       "      <th>1</th>\n",
       "      <td>95</td>\n",
       "      <td>1921819</td>\n",
       "    </tr>\n",
       "  </tbody>\n",
       "</table>\n",
       "</div>"
      ],
      "text/plain": [
       "  NUMERO_CANDIDATO QTDE_VOTOS\n",
       "0               95    4420489\n",
       "1               95    1921819"
      ]
     },
     "execution_count": 7,
     "metadata": {},
     "output_type": "execute_result"
    }
   ],
   "source": [
    "vot = get_votes(year=2014, position=PRESIDENTE, regional_aggregation=BRASIL, candidate_number=95)\n",
    "vot[[\"NUMERO_CANDIDATO\", \"QTDE_VOTOS\"]]"
   ]
  },
  {
   "cell_type": "markdown",
   "metadata": {},
   "source": [
    "### Votos Nulos"
   ]
  },
  {
   "cell_type": "code",
   "execution_count": 8,
   "metadata": {
    "pycharm": {
     "is_executing": false
    }
   },
   "outputs": [
    {
     "data": {
      "text/html": [
       "<div>\n",
       "<style scoped>\n",
       "    .dataframe tbody tr th:only-of-type {\n",
       "        vertical-align: middle;\n",
       "    }\n",
       "\n",
       "    .dataframe tbody tr th {\n",
       "        vertical-align: top;\n",
       "    }\n",
       "\n",
       "    .dataframe thead th {\n",
       "        text-align: right;\n",
       "    }\n",
       "</style>\n",
       "<table border=\"1\" class=\"dataframe\">\n",
       "  <thead>\n",
       "    <tr style=\"text-align: right;\">\n",
       "      <th></th>\n",
       "      <th>NUMERO_CANDIDATO</th>\n",
       "      <th>QTDE_VOTOS</th>\n",
       "    </tr>\n",
       "  </thead>\n",
       "  <tbody>\n",
       "    <tr>\n",
       "      <th>0</th>\n",
       "      <td>96</td>\n",
       "      <td>6678592</td>\n",
       "    </tr>\n",
       "    <tr>\n",
       "      <th>1</th>\n",
       "      <td>96</td>\n",
       "      <td>5219787</td>\n",
       "    </tr>\n",
       "  </tbody>\n",
       "</table>\n",
       "</div>"
      ],
      "text/plain": [
       "  NUMERO_CANDIDATO QTDE_VOTOS\n",
       "0               96    6678592\n",
       "1               96    5219787"
      ]
     },
     "execution_count": 8,
     "metadata": {},
     "output_type": "execute_result"
    }
   ],
   "source": [
    "vot = get_votes(year=2014, position=PRESIDENTE, regional_aggregation=BRASIL, candidate_number=96)\n",
    "vot[[\"NUMERO_CANDIDATO\", \"QTDE_VOTOS\"]]"
   ]
  },
  {
   "cell_type": "markdown",
   "metadata": {},
   "source": [
    "### API Lambda (Fast mode)"
   ]
  },
  {
   "cell_type": "code",
   "execution_count": 9,
   "metadata": {
    "pycharm": {
     "is_executing": false,
     "name": "#%%\n"
    }
   },
   "outputs": [
    {
     "data": {
      "text/html": [
       "<div>\n",
       "<style scoped>\n",
       "    .dataframe tbody tr th:only-of-type {\n",
       "        vertical-align: middle;\n",
       "    }\n",
       "\n",
       "    .dataframe tbody tr th {\n",
       "        vertical-align: top;\n",
       "    }\n",
       "\n",
       "    .dataframe thead th {\n",
       "        text-align: right;\n",
       "    }\n",
       "</style>\n",
       "<table border=\"1\" class=\"dataframe\">\n",
       "  <thead>\n",
       "    <tr style=\"text-align: right;\">\n",
       "      <th></th>\n",
       "      <th>NOME_URNA_CANDIDATO</th>\n",
       "      <th>NUMERO_CANDIDATO</th>\n",
       "      <th>NUM_ZONA</th>\n",
       "      <th>NUM_SECAO</th>\n",
       "      <th>QTDE_VOTOS</th>\n",
       "    </tr>\n",
       "  </thead>\n",
       "  <tbody>\n",
       "    <tr>\n",
       "      <th>0</th>\n",
       "      <td>VERA</td>\n",
       "      <td>16</td>\n",
       "      <td>13</td>\n",
       "      <td>97</td>\n",
       "      <td>2</td>\n",
       "    </tr>\n",
       "    <tr>\n",
       "      <th>1</th>\n",
       "      <td>VERA</td>\n",
       "      <td>16</td>\n",
       "      <td>290</td>\n",
       "      <td>129</td>\n",
       "      <td>1</td>\n",
       "    </tr>\n",
       "    <tr>\n",
       "      <th>2</th>\n",
       "      <td>VERA</td>\n",
       "      <td>16</td>\n",
       "      <td>263</td>\n",
       "      <td>53</td>\n",
       "      <td>1</td>\n",
       "    </tr>\n",
       "    <tr>\n",
       "      <th>3</th>\n",
       "      <td>VERA</td>\n",
       "      <td>16</td>\n",
       "      <td>68</td>\n",
       "      <td>213</td>\n",
       "      <td>1</td>\n",
       "    </tr>\n",
       "    <tr>\n",
       "      <th>4</th>\n",
       "      <td>VERA</td>\n",
       "      <td>16</td>\n",
       "      <td>365</td>\n",
       "      <td>326</td>\n",
       "      <td>1</td>\n",
       "    </tr>\n",
       "    <tr>\n",
       "      <th>...</th>\n",
       "      <td>...</td>\n",
       "      <td>...</td>\n",
       "      <td>...</td>\n",
       "      <td>...</td>\n",
       "      <td>...</td>\n",
       "    </tr>\n",
       "    <tr>\n",
       "      <th>95</th>\n",
       "      <td>VERA</td>\n",
       "      <td>16</td>\n",
       "      <td>422</td>\n",
       "      <td>36</td>\n",
       "      <td>1</td>\n",
       "    </tr>\n",
       "    <tr>\n",
       "      <th>96</th>\n",
       "      <td>VERA</td>\n",
       "      <td>16</td>\n",
       "      <td>411</td>\n",
       "      <td>64</td>\n",
       "      <td>1</td>\n",
       "    </tr>\n",
       "    <tr>\n",
       "      <th>97</th>\n",
       "      <td>VERA</td>\n",
       "      <td>16</td>\n",
       "      <td>325</td>\n",
       "      <td>58</td>\n",
       "      <td>1</td>\n",
       "    </tr>\n",
       "    <tr>\n",
       "      <th>98</th>\n",
       "      <td>VERA</td>\n",
       "      <td>16</td>\n",
       "      <td>376</td>\n",
       "      <td>597</td>\n",
       "      <td>1</td>\n",
       "    </tr>\n",
       "    <tr>\n",
       "      <th>99</th>\n",
       "      <td>VERA</td>\n",
       "      <td>16</td>\n",
       "      <td>15</td>\n",
       "      <td>247</td>\n",
       "      <td>1</td>\n",
       "    </tr>\n",
       "  </tbody>\n",
       "</table>\n",
       "<p>100 rows × 5 columns</p>\n",
       "</div>"
      ],
      "text/plain": [
       "   NOME_URNA_CANDIDATO NUMERO_CANDIDATO NUM_ZONA NUM_SECAO QTDE_VOTOS\n",
       "0                 VERA               16       13        97          2\n",
       "1                 VERA               16      290       129          1\n",
       "2                 VERA               16      263        53          1\n",
       "3                 VERA               16       68       213          1\n",
       "4                 VERA               16      365       326          1\n",
       "..                 ...              ...      ...       ...        ...\n",
       "95                VERA               16      422        36          1\n",
       "96                VERA               16      411        64          1\n",
       "97                VERA               16      325        58          1\n",
       "98                VERA               16      376       597          1\n",
       "99                VERA               16       15       247          1\n",
       "\n",
       "[100 rows x 5 columns]"
      ]
     },
     "execution_count": 9,
     "metadata": {},
     "output_type": "execute_result"
    }
   ],
   "source": [
    "vot = get_elections(year=2018, position=PRESIDENTE, regional_aggregation=VOTSEC, uf=\"SP\", limit=100, offset=100, fast=True)\n",
    "vot[[\"NOME_URNA_CANDIDATO\", \"NUMERO_CANDIDATO\", \"NUM_ZONA\", \"NUM_SECAO\", \"QTDE_VOTOS\"]]"
   ]
  },
  {
   "cell_type": "code",
   "execution_count": null,
   "metadata": {},
   "outputs": [],
   "source": []
  }
 ],
 "metadata": {
  "kernelspec": {
   "display_name": "Python 3",
   "language": "python",
   "name": "python3"
  },
  "language_info": {
   "codemirror_mode": {
    "name": "ipython",
    "version": 3
   },
   "file_extension": ".py",
   "mimetype": "text/x-python",
   "name": "python",
   "nbconvert_exporter": "python",
   "pygments_lexer": "ipython3",
   "version": "3.6.8rc1"
  },
  "pycharm": {
   "stem_cell": {
    "cell_type": "raw",
    "metadata": {
     "collapsed": false
    },
    "source": []
   }
  }
 },
 "nbformat": 4,
 "nbformat_minor": 1
}
