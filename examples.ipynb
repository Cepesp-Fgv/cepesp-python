{
 "cells": [
  {
   "cell_type": "markdown",
   "metadata": {
    "collapsed": true
   },
   "source": [
    "## Api cepesp data em python\n",
    "### Utilização básica\n",
    "Votação para \"President\" "
   ]
  },
  {
   "cell_type": "code",
   "execution_count": null,
   "metadata": {
    "pycharm": {
     "is_executing": true
    }
   },
   "outputs": [
    {
     "name": "stdout",
     "output_type": "stream",
     "text": [
      "{'year': 2014, 'position': 'President', 'regional_aggregation': 'Brazil', 'columns': ['NUMERO_CANDIDATO', 'NUM_TURNO', 'QTDE_VOTOS'], 'table': 'votos'}\n"
     ]
    }
   ],
   "source": [
    "from electionsBR import *\n",
    "\n",
    "vot = get_votes(year=2014, position=\"President\", regional_aggregation=\"Brazil\", \n",
    "                columns=[\"NUMERO_CANDIDATO\", \"NUM_TURNO\", \"QTDE_VOTOS\"])\n",
    "vot.head()"
   ]
  },
  {
   "cell_type": "markdown",
   "metadata": {},
   "source": [
    "#### Adicionando filtros"
   ]
  },
  {
   "cell_type": "code",
   "execution_count": null,
   "metadata": {
    "pycharm": {
     "is_executing": true
    }
   },
   "outputs": [],
   "source": [
    "vot = get_votes(year=2014, position=\"President\", regional_aggregation=\"State\",\n",
    "                uf=\"CE\", candidate_number=13, # special filters\n",
    "                filters={\"NUM_TURNO\": 2}, # column based filters\n",
    "                columns=[\"NUMERO_CANDIDATO\", \"UF\", \"NUM_TURNO\", \"QTDE_VOTOS\"])\n",
    "vot.head()"
   ]
  },
  {
   "cell_type": "markdown",
   "metadata": {},
   "source": [
    "#### Informações sobre o candidato\n"
   ]
  },
  {
   "cell_type": "code",
   "execution_count": null,
   "metadata": {
    "pycharm": {
     "is_executing": true
    }
   },
   "outputs": [],
   "source": [
    "cand = get_candidates(year=2014, position=\"Federal Deputy\",\n",
    "                      columns=[\"NUMERO_CANDIDATO\", \"NOME_CANDIDATO\", \"SIGLA_UF\", \"NUM_TURNO\"])\n",
    "cand.head()"
   ]
  },
  {
   "cell_type": "markdown",
   "metadata": {},
   "source": [
    "### Informações sobre Legendas\n"
   ]
  },
  {
   "cell_type": "code",
   "execution_count": null,
   "metadata": {
    "pycharm": {
     "is_executing": true
    }
   },
   "outputs": [],
   "source": [
    "leg = get_coalitions(year=2014, position=\"Governor\",\n",
    "                     columns=[\"TIPO_LEGENDA\", \"NUMERO_PARTIDO\", \"SIGLA_PARTIDO\", \"NOME_COLIGACAO\"])\n",
    "leg.head()"
   ]
  },
  {
   "cell_type": "markdown",
   "metadata": {},
   "source": [
    "### Junção entre votação e candidatos"
   ]
  },
  {
   "cell_type": "code",
   "execution_count": null,
   "metadata": {
    "pycharm": {
     "is_executing": true
    }
   },
   "outputs": [],
   "source": [
    "vot = get_elections(year=2014, position=\"President\", regional_aggregation=\"Brazil\", columns='*')\n",
    "vot[[\"NOME_CANDIDATO\", \"NUM_TURNO\", \"QTDE_VOTOS\"]].head()\n"
   ]
  },
  {
   "cell_type": "markdown",
   "metadata": {},
   "source": [
    "### Votos x Partidos"
   ]
  },
  {
   "cell_type": "code",
   "execution_count": null,
   "metadata": {
    "pycharm": {
     "is_executing": true
    }
   },
   "outputs": [],
   "source": [
    "vot = get_elections(year=2014, position=\"President\", regional_aggregation=\"Brazil\", political_aggregation=\"Coalition\")\n",
    "vot.head()"
   ]
  },
  {
   "cell_type": "markdown",
   "metadata": {},
   "source": [
    "### Votos Brancos"
   ]
  },
  {
   "cell_type": "code",
   "execution_count": null,
   "metadata": {
    "pycharm": {
     "is_executing": true
    }
   },
   "outputs": [],
   "source": [
    "vot = get_votes(year=2014, position=\"President\", regional_aggregation=\"Brazil\", \n",
    "                candidate_number=95, blank_votes=True,\n",
    "                columns=[\"NUMERO_CANDIDATO\", \"QTDE_VOTOS\"])\n",
    "vot.head()"
   ]
  },
  {
   "cell_type": "markdown",
   "metadata": {},
   "source": [
    "### Votos Nulos"
   ]
  },
  {
   "cell_type": "code",
   "execution_count": null,
   "metadata": {
    "pycharm": {
     "is_executing": true
    }
   },
   "outputs": [],
   "source": [
    "vot = get_votes(year=2014, position=\"President\", regional_aggregation=\"Brazil\",\n",
    "                candidate_number=96, null_votes=True,\n",
    "                columns=[\"NUMERO_CANDIDATO\", \"QTDE_VOTOS\"])\n",
    "vot.head()"
   ]
  },
  {
   "cell_type": "markdown",
   "metadata": {},
   "source": [
    "### API Lambda *(Fast mode)*"
   ]
  },
  {
   "cell_type": "markdown",
   "metadata": {},
   "source": [
    "You can use `fast=True` when you want fast paginated results. Queries longer than 30 seconds will throw an error."
   ]
  },
  {
   "cell_type": "code",
   "execution_count": null,
   "metadata": {
    "pycharm": {
     "name": "#%%\n",
     "is_executing": true
    }
   },
   "outputs": [],
   "source": [
    "elec = get_elections(year=2018, position=\"President\", regional_aggregation=\"Electoral Section\", \n",
    "                     columns=[\"NUMERO_CANDIDATO\", \"NUM_ZONA\", \"NUM_SECAO\", \"QTDE_VOTOS\"],\n",
    "                     uf=\"SP\", limit=100, offset=100, fast=True)\n",
    "elec.head()"
   ]
  },
  {
   "cell_type": "code",
   "execution_count": null,
   "outputs": [],
   "source": [],
   "metadata": {
    "collapsed": false,
    "pycharm": {
     "name": "#%%\n",
     "is_executing": true
    }
   }
  }
 ],
 "metadata": {
  "kernelspec": {
   "display_name": "Python 3",
   "language": "python",
   "name": "python3"
  },
  "language_info": {
   "codemirror_mode": {
    "name": "ipython",
    "version": 3
   },
   "file_extension": ".py",
   "mimetype": "text/x-python",
   "name": "python",
   "nbconvert_exporter": "python",
   "pygments_lexer": "ipython3",
   "version": "3.6.8rc1"
  }
 },
 "nbformat": 4,
 "nbformat_minor": 1
}