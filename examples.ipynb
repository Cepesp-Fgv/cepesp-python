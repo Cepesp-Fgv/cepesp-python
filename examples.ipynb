{
 "cells": [
  {
   "cell_type": "markdown",
   "metadata": {
    "collapsed": true
   },
   "source": [
    "## Api cepesp data em python\n",
    "### Utilização básica\n",
    "Votação para \"President\" "
   ]
  },
  {
   "cell_type": "code",
   "execution_count": 1,
   "metadata": {},
   "outputs": [
    {
     "data": {
      "text/plain": "  NUMERO_CANDIDATO NUM_TURNO QTDE_VOTOS\n0               13         1   43267668\n1               16         1      91209\n2               20         1     780513\n3               21         1      47845\n4               27         1      61250",
      "text/html": "<div>\n<style scoped>\n    .dataframe tbody tr th:only-of-type {\n        vertical-align: middle;\n    }\n\n    .dataframe tbody tr th {\n        vertical-align: top;\n    }\n\n    .dataframe thead th {\n        text-align: right;\n    }\n</style>\n<table border=\"1\" class=\"dataframe\">\n  <thead>\n    <tr style=\"text-align: right;\">\n      <th></th>\n      <th>NUMERO_CANDIDATO</th>\n      <th>NUM_TURNO</th>\n      <th>QTDE_VOTOS</th>\n    </tr>\n  </thead>\n  <tbody>\n    <tr>\n      <th>0</th>\n      <td>13</td>\n      <td>1</td>\n      <td>43267668</td>\n    </tr>\n    <tr>\n      <th>1</th>\n      <td>16</td>\n      <td>1</td>\n      <td>91209</td>\n    </tr>\n    <tr>\n      <th>2</th>\n      <td>20</td>\n      <td>1</td>\n      <td>780513</td>\n    </tr>\n    <tr>\n      <th>3</th>\n      <td>21</td>\n      <td>1</td>\n      <td>47845</td>\n    </tr>\n    <tr>\n      <th>4</th>\n      <td>27</td>\n      <td>1</td>\n      <td>61250</td>\n    </tr>\n  </tbody>\n</table>\n</div>"
     },
     "execution_count": 1,
     "metadata": {},
     "output_type": "execute_result"
    }
   ],
   "source": [
    "from electionsBR import *\n",
    "\n",
    "vot = get_votes(year=2014, position=\"President\", regional_aggregation=\"Brazil\", \n",
    "                columns=[\"NUMERO_CANDIDATO\", \"NUM_TURNO\", \"QTDE_VOTOS\"])\n",
    "vot.head()"
   ]
  },
  {
   "cell_type": "markdown",
   "metadata": {},
   "source": [
    "#### Adicionando filtros"
   ]
  },
  {
   "cell_type": "code",
   "execution_count": 2,
   "metadata": {},
   "outputs": [
    {
     "data": {
      "text/plain": "  NUMERO_CANDIDATO  UF NUM_TURNO QTDE_VOTOS\n0               13  CE         2    3522884",
      "text/html": "<div>\n<style scoped>\n    .dataframe tbody tr th:only-of-type {\n        vertical-align: middle;\n    }\n\n    .dataframe tbody tr th {\n        vertical-align: top;\n    }\n\n    .dataframe thead th {\n        text-align: right;\n    }\n</style>\n<table border=\"1\" class=\"dataframe\">\n  <thead>\n    <tr style=\"text-align: right;\">\n      <th></th>\n      <th>NUMERO_CANDIDATO</th>\n      <th>UF</th>\n      <th>NUM_TURNO</th>\n      <th>QTDE_VOTOS</th>\n    </tr>\n  </thead>\n  <tbody>\n    <tr>\n      <th>0</th>\n      <td>13</td>\n      <td>CE</td>\n      <td>2</td>\n      <td>3522884</td>\n    </tr>\n  </tbody>\n</table>\n</div>"
     },
     "execution_count": 2,
     "metadata": {},
     "output_type": "execute_result"
    }
   ],
   "source": [
    "vot = get_votes(year=2014, position=\"President\", regional_aggregation=\"State\",\n",
    "                uf=\"CE\", candidate_number=13, # special filters\n",
    "                filters={\"NUM_TURNO\": 2}, # column based filters\n",
    "                columns=[\"NUMERO_CANDIDATO\", \"UF\", \"NUM_TURNO\", \"QTDE_VOTOS\"])\n",
    "vot.head()"
   ]
  },
  {
   "cell_type": "markdown",
   "metadata": {},
   "source": [
    "#### Informações sobre o candidato\n"
   ]
  },
  {
   "cell_type": "code",
   "execution_count": 3,
   "metadata": {},
   "outputs": [
    {
     "data": {
      "text/plain": "  NUMERO_CANDIDATO                        NOME_CANDIDATO SIGLA_UF NUM_TURNO\n0             1012                     ALAN RICK MIRANDA       AC         1\n1             1101  CLAUDENOR MAGALHÃES SANTANA DE SOUZA       AC         1\n2             1111           LEILANE RIBEIRO DE OLIVEIRA       AC         1\n3             1112   JOSÉ EDMAR RONIVON SANTIAGO DE MELO       AC         1\n4             1122            OSVALDO ALVES RIBEIRO NETO       AC         1",
      "text/html": "<div>\n<style scoped>\n    .dataframe tbody tr th:only-of-type {\n        vertical-align: middle;\n    }\n\n    .dataframe tbody tr th {\n        vertical-align: top;\n    }\n\n    .dataframe thead th {\n        text-align: right;\n    }\n</style>\n<table border=\"1\" class=\"dataframe\">\n  <thead>\n    <tr style=\"text-align: right;\">\n      <th></th>\n      <th>NUMERO_CANDIDATO</th>\n      <th>NOME_CANDIDATO</th>\n      <th>SIGLA_UF</th>\n      <th>NUM_TURNO</th>\n    </tr>\n  </thead>\n  <tbody>\n    <tr>\n      <th>0</th>\n      <td>1012</td>\n      <td>ALAN RICK MIRANDA</td>\n      <td>AC</td>\n      <td>1</td>\n    </tr>\n    <tr>\n      <th>1</th>\n      <td>1101</td>\n      <td>CLAUDENOR MAGALHÃES SANTANA DE SOUZA</td>\n      <td>AC</td>\n      <td>1</td>\n    </tr>\n    <tr>\n      <th>2</th>\n      <td>1111</td>\n      <td>LEILANE RIBEIRO DE OLIVEIRA</td>\n      <td>AC</td>\n      <td>1</td>\n    </tr>\n    <tr>\n      <th>3</th>\n      <td>1112</td>\n      <td>JOSÉ EDMAR RONIVON SANTIAGO DE MELO</td>\n      <td>AC</td>\n      <td>1</td>\n    </tr>\n    <tr>\n      <th>4</th>\n      <td>1122</td>\n      <td>OSVALDO ALVES RIBEIRO NETO</td>\n      <td>AC</td>\n      <td>1</td>\n    </tr>\n  </tbody>\n</table>\n</div>"
     },
     "execution_count": 3,
     "metadata": {},
     "output_type": "execute_result"
    }
   ],
   "source": [
    "cand = get_candidates(year=2014, position=\"Federal Deputy\",\n",
    "                      columns=[\"NUMERO_CANDIDATO\", \"NOME_CANDIDATO\", \"SIGLA_UF\", \"NUM_TURNO\"])\n",
    "cand.head()"
   ]
  },
  {
   "cell_type": "markdown",
   "metadata": {},
   "source": [
    "### Informações sobre Legendas\n"
   ]
  },
  {
   "cell_type": "code",
   "execution_count": 4,
   "metadata": {},
   "outputs": [
    {
     "data": {
      "text/plain": "  TIPO_LEGENDA NUMERO_PARTIDO SIGLA_PARTIDO  \\\n0    COLIGACAO             10           PRB   \n1    COLIGACAO             10           PRB   \n2    COLIGACAO             10           PRB   \n3    COLIGACAO             10           PRB   \n4    COLIGACAO             10           PRB   \n\n                               NOME_COLIGACAO  \n0  COLIGAÇÃO SANTA CATARINA EM PRIMEIRO LUGAR  \n1                   PERNAMBUCO VAI MAIS LONGE  \n2     GARANTIA DE UM FUTURO MELHOR PARA GOIÁS  \n3                           UNIDOS PELA BAHIA  \n4                          MS CADA VEZ MELHOR  ",
      "text/html": "<div>\n<style scoped>\n    .dataframe tbody tr th:only-of-type {\n        vertical-align: middle;\n    }\n\n    .dataframe tbody tr th {\n        vertical-align: top;\n    }\n\n    .dataframe thead th {\n        text-align: right;\n    }\n</style>\n<table border=\"1\" class=\"dataframe\">\n  <thead>\n    <tr style=\"text-align: right;\">\n      <th></th>\n      <th>TIPO_LEGENDA</th>\n      <th>NUMERO_PARTIDO</th>\n      <th>SIGLA_PARTIDO</th>\n      <th>NOME_COLIGACAO</th>\n    </tr>\n  </thead>\n  <tbody>\n    <tr>\n      <th>0</th>\n      <td>COLIGACAO</td>\n      <td>10</td>\n      <td>PRB</td>\n      <td>COLIGAÇÃO SANTA CATARINA EM PRIMEIRO LUGAR</td>\n    </tr>\n    <tr>\n      <th>1</th>\n      <td>COLIGACAO</td>\n      <td>10</td>\n      <td>PRB</td>\n      <td>PERNAMBUCO VAI MAIS LONGE</td>\n    </tr>\n    <tr>\n      <th>2</th>\n      <td>COLIGACAO</td>\n      <td>10</td>\n      <td>PRB</td>\n      <td>GARANTIA DE UM FUTURO MELHOR PARA GOIÁS</td>\n    </tr>\n    <tr>\n      <th>3</th>\n      <td>COLIGACAO</td>\n      <td>10</td>\n      <td>PRB</td>\n      <td>UNIDOS PELA BAHIA</td>\n    </tr>\n    <tr>\n      <th>4</th>\n      <td>COLIGACAO</td>\n      <td>10</td>\n      <td>PRB</td>\n      <td>MS CADA VEZ MELHOR</td>\n    </tr>\n  </tbody>\n</table>\n</div>"
     },
     "execution_count": 4,
     "metadata": {},
     "output_type": "execute_result"
    }
   ],
   "source": [
    "leg = get_coalitions(year=2014, position=\"Governor\",\n",
    "                     columns=[\"TIPO_LEGENDA\", \"NUMERO_PARTIDO\", \"SIGLA_PARTIDO\", \"NOME_COLIGACAO\"])\n",
    "leg.head()"
   ]
  },
  {
   "cell_type": "markdown",
   "metadata": {},
   "source": [
    "### Junção entre votação e candidatos"
   ]
  },
  {
   "cell_type": "code",
   "execution_count": 5,
   "metadata": {},
   "outputs": [
    {
     "data": {
      "text/plain": "                               NOME_CANDIDATO NUM_TURNO QTDE_VOTOS\n0                             MAURO LUÍS IASI         1      47845\n1                           RUI COSTA PIMENTA         1      12324\n2                   JOSÉ LEVY FIDELIX DA CRUZ         1     446878\n3  MARIA OSMARINA MARINA DA SILVA VAZ DE LIMA         1   22176619\n4                       EVERALDO DIAS PEREIRA         1     780513",
      "text/html": "<div>\n<style scoped>\n    .dataframe tbody tr th:only-of-type {\n        vertical-align: middle;\n    }\n\n    .dataframe tbody tr th {\n        vertical-align: top;\n    }\n\n    .dataframe thead th {\n        text-align: right;\n    }\n</style>\n<table border=\"1\" class=\"dataframe\">\n  <thead>\n    <tr style=\"text-align: right;\">\n      <th></th>\n      <th>NOME_CANDIDATO</th>\n      <th>NUM_TURNO</th>\n      <th>QTDE_VOTOS</th>\n    </tr>\n  </thead>\n  <tbody>\n    <tr>\n      <th>0</th>\n      <td>MAURO LUÍS IASI</td>\n      <td>1</td>\n      <td>47845</td>\n    </tr>\n    <tr>\n      <th>1</th>\n      <td>RUI COSTA PIMENTA</td>\n      <td>1</td>\n      <td>12324</td>\n    </tr>\n    <tr>\n      <th>2</th>\n      <td>JOSÉ LEVY FIDELIX DA CRUZ</td>\n      <td>1</td>\n      <td>446878</td>\n    </tr>\n    <tr>\n      <th>3</th>\n      <td>MARIA OSMARINA MARINA DA SILVA VAZ DE LIMA</td>\n      <td>1</td>\n      <td>22176619</td>\n    </tr>\n    <tr>\n      <th>4</th>\n      <td>EVERALDO DIAS PEREIRA</td>\n      <td>1</td>\n      <td>780513</td>\n    </tr>\n  </tbody>\n</table>\n</div>"
     },
     "execution_count": 5,
     "metadata": {},
     "output_type": "execute_result"
    }
   ],
   "source": [
    "vot = get_elections(year=2014, position=\"President\", regional_aggregation=\"Brazil\", columns='*')\n",
    "vot[[\"NOME_CANDIDATO\", \"NUM_TURNO\", \"QTDE_VOTOS\"]].head()\n"
   ]
  },
  {
   "cell_type": "markdown",
   "metadata": {},
   "source": [
    "### Votos x Partidos"
   ]
  },
  {
   "cell_type": "code",
   "execution_count": 6,
   "metadata": {},
   "outputs": [
    {
     "data": {
      "text/plain": "  ANO_ELEICAO NUM_TURNO     DESCRICAO_ELEICAO CODIGO_CARGO DESCRICAO_CARGO  \\\n0        2014         1  Eleicoes Gerais 2014            1      PRESIDENTE   \n1        2014         1  Eleicoes Gerais 2014            1      PRESIDENTE   \n2        2014         1  Eleicoes Gerais 2014            1      PRESIDENTE   \n3        2014         1  Eleicoes Gerais 2014            1      PRESIDENTE   \n4        2014         1  Eleicoes Gerais 2014            1      PRESIDENTE   \n\n  SIGLA_COLIGACAO      NOME_COLIGACAO               COMPOSICAO_COLIGACAO  \\\n0             PCB                 PCB                                PCB   \n1             PCO                 PCO                                PCO   \n2            #NE#  UNIDOS PELO BRASIL  PHS / PRP / PPS / PPL / PSB / PSL   \n3            PRTB                PRTB                               PRTB   \n4             PSC                 PSC                                PSC   \n\n  QTDE_VOTOS  \n0      47845  \n1      12324  \n2   22176619  \n3     446878  \n4     780513  ",
      "text/html": "<div>\n<style scoped>\n    .dataframe tbody tr th:only-of-type {\n        vertical-align: middle;\n    }\n\n    .dataframe tbody tr th {\n        vertical-align: top;\n    }\n\n    .dataframe thead th {\n        text-align: right;\n    }\n</style>\n<table border=\"1\" class=\"dataframe\">\n  <thead>\n    <tr style=\"text-align: right;\">\n      <th></th>\n      <th>ANO_ELEICAO</th>\n      <th>NUM_TURNO</th>\n      <th>DESCRICAO_ELEICAO</th>\n      <th>CODIGO_CARGO</th>\n      <th>DESCRICAO_CARGO</th>\n      <th>SIGLA_COLIGACAO</th>\n      <th>NOME_COLIGACAO</th>\n      <th>COMPOSICAO_COLIGACAO</th>\n      <th>QTDE_VOTOS</th>\n    </tr>\n  </thead>\n  <tbody>\n    <tr>\n      <th>0</th>\n      <td>2014</td>\n      <td>1</td>\n      <td>Eleicoes Gerais 2014</td>\n      <td>1</td>\n      <td>PRESIDENTE</td>\n      <td>PCB</td>\n      <td>PCB</td>\n      <td>PCB</td>\n      <td>47845</td>\n    </tr>\n    <tr>\n      <th>1</th>\n      <td>2014</td>\n      <td>1</td>\n      <td>Eleicoes Gerais 2014</td>\n      <td>1</td>\n      <td>PRESIDENTE</td>\n      <td>PCO</td>\n      <td>PCO</td>\n      <td>PCO</td>\n      <td>12324</td>\n    </tr>\n    <tr>\n      <th>2</th>\n      <td>2014</td>\n      <td>1</td>\n      <td>Eleicoes Gerais 2014</td>\n      <td>1</td>\n      <td>PRESIDENTE</td>\n      <td>#NE#</td>\n      <td>UNIDOS PELO BRASIL</td>\n      <td>PHS / PRP / PPS / PPL / PSB / PSL</td>\n      <td>22176619</td>\n    </tr>\n    <tr>\n      <th>3</th>\n      <td>2014</td>\n      <td>1</td>\n      <td>Eleicoes Gerais 2014</td>\n      <td>1</td>\n      <td>PRESIDENTE</td>\n      <td>PRTB</td>\n      <td>PRTB</td>\n      <td>PRTB</td>\n      <td>446878</td>\n    </tr>\n    <tr>\n      <th>4</th>\n      <td>2014</td>\n      <td>1</td>\n      <td>Eleicoes Gerais 2014</td>\n      <td>1</td>\n      <td>PRESIDENTE</td>\n      <td>PSC</td>\n      <td>PSC</td>\n      <td>PSC</td>\n      <td>780513</td>\n    </tr>\n  </tbody>\n</table>\n</div>"
     },
     "execution_count": 6,
     "metadata": {},
     "output_type": "execute_result"
    }
   ],
   "source": [
    "vot = get_elections(year=2014, position=\"President\", regional_aggregation=\"Brazil\", political_aggregation=\"Coalition\")\n",
    "vot.head()"
   ]
  },
  {
   "cell_type": "markdown",
   "metadata": {},
   "source": [
    "### Votos Brancos"
   ]
  },
  {
   "cell_type": "code",
   "execution_count": 7,
   "metadata": {},
   "outputs": [
    {
     "data": {
      "text/plain": "  NUMERO_CANDIDATO QTDE_VOTOS\n0               95    6342308",
      "text/html": "<div>\n<style scoped>\n    .dataframe tbody tr th:only-of-type {\n        vertical-align: middle;\n    }\n\n    .dataframe tbody tr th {\n        vertical-align: top;\n    }\n\n    .dataframe thead th {\n        text-align: right;\n    }\n</style>\n<table border=\"1\" class=\"dataframe\">\n  <thead>\n    <tr style=\"text-align: right;\">\n      <th></th>\n      <th>NUMERO_CANDIDATO</th>\n      <th>QTDE_VOTOS</th>\n    </tr>\n  </thead>\n  <tbody>\n    <tr>\n      <th>0</th>\n      <td>95</td>\n      <td>6342308</td>\n    </tr>\n  </tbody>\n</table>\n</div>"
     },
     "execution_count": 7,
     "metadata": {},
     "output_type": "execute_result"
    }
   ],
   "source": [
    "vot = get_votes(year=2014, position=\"President\", regional_aggregation=\"Brazil\", \n",
    "                candidate_number=95, blank_votes=True,\n",
    "                columns=[\"NUMERO_CANDIDATO\", \"QTDE_VOTOS\"])\n",
    "vot.head()"
   ]
  },
  {
   "cell_type": "markdown",
   "metadata": {},
   "source": [
    "### Votos Nulos"
   ]
  },
  {
   "cell_type": "code",
   "execution_count": 8,
   "metadata": {},
   "outputs": [
    {
     "data": {
      "text/plain": "  NUMERO_CANDIDATO QTDE_VOTOS\n0               96   11898379",
      "text/html": "<div>\n<style scoped>\n    .dataframe tbody tr th:only-of-type {\n        vertical-align: middle;\n    }\n\n    .dataframe tbody tr th {\n        vertical-align: top;\n    }\n\n    .dataframe thead th {\n        text-align: right;\n    }\n</style>\n<table border=\"1\" class=\"dataframe\">\n  <thead>\n    <tr style=\"text-align: right;\">\n      <th></th>\n      <th>NUMERO_CANDIDATO</th>\n      <th>QTDE_VOTOS</th>\n    </tr>\n  </thead>\n  <tbody>\n    <tr>\n      <th>0</th>\n      <td>96</td>\n      <td>11898379</td>\n    </tr>\n  </tbody>\n</table>\n</div>"
     },
     "execution_count": 8,
     "metadata": {},
     "output_type": "execute_result"
    }
   ],
   "source": [
    "vot = get_votes(year=2014, position=\"President\", regional_aggregation=\"Brazil\",\n",
    "                candidate_number=96, null_votes=True,\n",
    "                columns=[\"NUMERO_CANDIDATO\", \"QTDE_VOTOS\"])\n",
    "vot.head()"
   ]
  },
  {
   "cell_type": "markdown",
   "metadata": {},
   "source": [
    "### API Lambda *(Fast mode)*"
   ]
  },
  {
   "cell_type": "markdown",
   "metadata": {},
   "source": [
    "You can use `fast=True` when you want fast paginated results. Queries longer than 30 seconds will throw an error."
   ]
  },
  {
   "cell_type": "code",
   "execution_count": 9,
   "metadata": {
    "pycharm": {
     "name": "#%%\n"
    }
   },
   "outputs": [
    {
     "data": {
      "text/plain": "  NUMERO_CANDIDATO NUM_ZONA NUM_SECAO QTDE_VOTOS\n0               16       13        97          2\n1               16      290       129          1\n2               16      263        53          1\n3               16       68       213          1\n4               16      365       326          1",
      "text/html": "<div>\n<style scoped>\n    .dataframe tbody tr th:only-of-type {\n        vertical-align: middle;\n    }\n\n    .dataframe tbody tr th {\n        vertical-align: top;\n    }\n\n    .dataframe thead th {\n        text-align: right;\n    }\n</style>\n<table border=\"1\" class=\"dataframe\">\n  <thead>\n    <tr style=\"text-align: right;\">\n      <th></th>\n      <th>NUMERO_CANDIDATO</th>\n      <th>NUM_ZONA</th>\n      <th>NUM_SECAO</th>\n      <th>QTDE_VOTOS</th>\n    </tr>\n  </thead>\n  <tbody>\n    <tr>\n      <th>0</th>\n      <td>16</td>\n      <td>13</td>\n      <td>97</td>\n      <td>2</td>\n    </tr>\n    <tr>\n      <th>1</th>\n      <td>16</td>\n      <td>290</td>\n      <td>129</td>\n      <td>1</td>\n    </tr>\n    <tr>\n      <th>2</th>\n      <td>16</td>\n      <td>263</td>\n      <td>53</td>\n      <td>1</td>\n    </tr>\n    <tr>\n      <th>3</th>\n      <td>16</td>\n      <td>68</td>\n      <td>213</td>\n      <td>1</td>\n    </tr>\n    <tr>\n      <th>4</th>\n      <td>16</td>\n      <td>365</td>\n      <td>326</td>\n      <td>1</td>\n    </tr>\n  </tbody>\n</table>\n</div>"
     },
     "execution_count": 9,
     "metadata": {},
     "output_type": "execute_result"
    }
   ],
   "source": [
    "elec = get_elections(year=2018, position=\"President\", regional_aggregation=\"Electoral Section\", \n",
    "                     columns=[\"NUMERO_CANDIDATO\", \"NUM_ZONA\", \"NUM_SECAO\", \"QTDE_VOTOS\"],\n",
    "                     uf=\"SP\", limit=100, offset=100, fast=True)\n",
    "elec.head()"
   ]
  },
  {
   "cell_type": "code",
   "execution_count": 9,
   "outputs": [],
   "source": [],
   "metadata": {
    "collapsed": false,
    "pycharm": {
     "name": "#%%\n"
    }
   }
  }
 ],
 "metadata": {
  "kernelspec": {
   "display_name": "Python 3",
   "language": "python",
   "name": "python3"
  },
  "language_info": {
   "codemirror_mode": {
    "name": "ipython",
    "version": 3
   },
   "file_extension": ".py",
   "mimetype": "text/x-python",
   "name": "python",
   "nbconvert_exporter": "python",
   "pygments_lexer": "ipython3",
   "version": "3.6.8rc1"
  }
 },
 "nbformat": 4,
 "nbformat_minor": 1
}