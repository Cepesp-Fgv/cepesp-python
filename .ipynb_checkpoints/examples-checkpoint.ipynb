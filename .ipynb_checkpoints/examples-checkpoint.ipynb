{
 "cells": [
  {
   "cell_type": "markdown",
   "metadata": {
    "collapsed": true
   },
   "source": [
    "## Api cepesp data em python\n",
    "### Utilização básica\n",
    "Votação para presidente "
   ]
  },
  {
   "cell_type": "code",
   "execution_count": 1,
   "metadata": {
    "pycharm": {
     "is_executing": false
    }
   },
   "outputs": [],
   "source": [
    "from electionsBR import *\n",
    "\n",
    "vot = get_votes(year=2014, position=PRESIDENTE, regional_aggregation=BRASIL)\n",
    "vot[[\"NUMERO_CANDIDATO\", \"NUM_TURNO\", \"QTDE_VOTOS\"]].head()"
   ]
  },
  {
   "cell_type": "markdown",
   "metadata": {},
   "source": [
    "#### Adicionando filtros"
   ]
  },
  {
   "cell_type": "code",
   "execution_count": null,
   "metadata": {
    "pycharm": {
     "is_executing": false
    }
   },
   "outputs": [],
   "source": [
    "vot = get_votes(year=2014, position=PRESIDENTE, regional_aggregation=UF, uf=\"CE\", candidate_number=13)\n",
    "vot[[\"NUMERO_CANDIDATO\", \"UF\", \"NUM_TURNO\", \"QTDE_VOTOS\"]]"
   ]
  },
  {
   "cell_type": "markdown",
   "metadata": {},
   "source": [
    "#### Informações sobre o candidato\n"
   ]
  },
  {
   "cell_type": "code",
   "execution_count": null,
   "metadata": {
    "pycharm": {
     "is_executing": false
    }
   },
   "outputs": [],
   "source": [
    "cand = get_candidates(year=2014, position=DEP_FEDERAL, columns='*')\n",
    "cand[[\"NUMERO_CANDIDATO\", \"NOME_CANDIDATO\", \"SIGLA_UF\", \"NUM_TURNO\"]].head()"
   ]
  },
  {
   "cell_type": "markdown",
   "metadata": {},
   "source": [
    "### Informações sobre Legendas\n"
   ]
  },
  {
   "cell_type": "code",
   "execution_count": null,
   "metadata": {
    "pycharm": {
     "is_executing": false
    }
   },
   "outputs": [],
   "source": [
    "leg = get_coalitions(year=2014, position=GOVERNADOR, columns='*')\n",
    "leg[[\"TIPO_LEGENDA\", \"NUMERO_PARTIDO\", \"SIGLA_PARTIDO\", \"NOME_COLIGACAO\"]].head()"
   ]
  },
  {
   "cell_type": "markdown",
   "metadata": {},
   "source": [
    "### Junção entre votação e candidatos"
   ]
  },
  {
   "cell_type": "code",
   "execution_count": null,
   "metadata": {
    "pycharm": {
     "is_executing": false
    }
   },
   "outputs": [],
   "source": [
    "vot = get_elections(year=2014, position=PRESIDENTE, regional_aggregation=BRASIL, columns='*')\n",
    "vot[[\"NOME_CANDIDATO\", \"NUM_TURNO\", \"QTDE_VOTOS\"]].head()\n"
   ]
  },
  {
   "cell_type": "markdown",
   "metadata": {},
   "source": [
    "### Votos x Partidos"
   ]
  },
  {
   "cell_type": "code",
   "execution_count": null,
   "metadata": {
    "pycharm": {
     "is_executing": false
    }
   },
   "outputs": [],
   "source": [
    "vot = get_elections(year=2014, position=PRESIDENTE, regional_aggregation=BRASIL, political_aggregation=COLIGACAO)\n",
    "vot.head()"
   ]
  },
  {
   "cell_type": "markdown",
   "metadata": {},
   "source": [
    "### Votos Brancos"
   ]
  },
  {
   "cell_type": "code",
   "execution_count": null,
   "metadata": {
    "pycharm": {
     "is_executing": false
    }
   },
   "outputs": [],
   "source": [
    "vot = get_votes(year=2014, position=PRESIDENTE, regional_aggregation=BRASIL, candidate_number=95)\n",
    "vot[[\"NUMERO_CANDIDATO\", \"QTDE_VOTOS\"]]"
   ]
  },
  {
   "cell_type": "markdown",
   "metadata": {},
   "source": [
    "### Votos Nulos"
   ]
  },
  {
   "cell_type": "code",
   "execution_count": null,
   "metadata": {
    "pycharm": {
     "is_executing": false
    }
   },
   "outputs": [],
   "source": [
    "vot = get_votes(year=2014, position=PRESIDENTE, regional_aggregation=BRASIL, candidate_number=96)\n",
    "vot[[\"NUMERO_CANDIDATO\", \"QTDE_VOTOS\"]]"
   ]
  },
  {
   "cell_type": "markdown",
   "metadata": {},
   "source": [
    "### API Lambda (Fast mode)"
   ]
  },
  {
   "cell_type": "code",
   "execution_count": null,
   "metadata": {
    "pycharm": {
     "is_executing": false,
     "name": "#%%\n"
    }
   },
   "outputs": [],
   "source": [
    "vot = get_elections(year=2018, position=PRESIDENTE, regional_aggregation=VOTSEC, uf=\"SP\", limit=100, offset=100, fast=True)\n",
    "vot[[\"NOME_URNA_CANDIDATO\", \"NUMERO_CANDIDATO\", \"NUM_ZONA\", \"NUM_SECAO\", \"QTDE_VOTOS\"]]"
   ]
  },
  {
   "cell_type": "code",
   "execution_count": null,
   "metadata": {},
   "outputs": [],
   "source": []
  }
 ],
 "metadata": {
  "kernelspec": {
   "display_name": "Python 3",
   "language": "python",
   "name": "python3"
  },
  "language_info": {
   "codemirror_mode": {
    "name": "ipython",
    "version": 3
   },
   "file_extension": ".py",
   "mimetype": "text/x-python",
   "name": "python",
   "nbconvert_exporter": "python",
   "pygments_lexer": "ipython3",
   "version": "3.6.8rc1"
  },
  "pycharm": {
   "stem_cell": {
    "cell_type": "raw",
    "metadata": {
     "collapsed": false
    },
    "source": []
   }
  }
 },
 "nbformat": 4,
 "nbformat_minor": 1
}
